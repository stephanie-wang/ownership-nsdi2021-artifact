{
 "cells": [
  {
   "cell_type": "code",
   "execution_count": 1,
   "metadata": {},
   "outputs": [
    {
     "name": "stdout",
     "output_type": "stream",
     "text": [
      "Key(system='ownership', small=True, colocated=True) 20 49541.2\n",
      "Key(system='ownership', small=True, colocated=True) 40 90602.1\n",
      "Key(system='ownership', small=True, colocated=True) 60 118388.8\n",
      "Key(system='ownership', small=True, colocated=True) 80 132894.0\n",
      "Key(system='ownership', small=True, colocated=True) 100 144178.72\n",
      "Key(system='leases', small=True, colocated=True) 20 5085.52\n",
      "Key(system='leases', small=True, colocated=True) 40 5071.39\n",
      "Key(system='leases', small=True, colocated=True) 60 5093.3\n",
      "Key(system='leases', small=True, colocated=True) 80 5140.56\n",
      "Key(system='leases', small=True, colocated=True) 100 5080.43\n",
      "Key(system='centralized', small=True, colocated=True) 20 4570.57\n",
      "Key(system='centralized', small=True, colocated=True) 40 4601.23\n",
      "Key(system='centralized', small=True, colocated=True) 60 4402.84\n",
      "Key(system='centralized', small=True, colocated=True) 80 4520.81\n",
      "Key(system='centralized', small=True, colocated=True) 100 4491.72\n",
      "Key(system='ownership', small=True, colocated=False) 20 36287.74\n",
      "Key(system='ownership', small=True, colocated=False) 40 68177.49\n",
      "Key(system='ownership', small=True, colocated=False) 60 102648.03\n",
      "Key(system='ownership', small=True, colocated=False) 80 134722.85\n",
      "Key(system='ownership', small=True, colocated=False) 100 167777.6\n",
      "Key(system='leases', small=True, colocated=False) 20 12385.34\n",
      "Key(system='leases', small=True, colocated=False) 40 24523.73\n",
      "Key(system='leases', small=True, colocated=False) 60 40000.49\n",
      "Key(system='leases', small=True, colocated=False) 80 62481.46\n",
      "Key(system='leases', small=True, colocated=False) 100 83935.74\n",
      "Key(system='centralized', small=True, colocated=False) 20 12383.24\n",
      "Key(system='centralized', small=True, colocated=False) 40 25076.03\n",
      "Key(system='centralized', small=True, colocated=False) 60 36724.7\n",
      "Key(system='centralized', small=True, colocated=False) 80 40560.56\n",
      "Key(system='centralized', small=True, colocated=False) 100 39404.81\n",
      "Key(system='ownership', small=False, colocated=True) 20 19443.01\n",
      "Key(system='ownership', small=False, colocated=True) 40 33178.37\n",
      "Key(system='ownership', small=False, colocated=True) 60 47566.83\n",
      "Key(system='ownership', small=False, colocated=True) 80 60387.45\n",
      "Key(system='ownership', small=False, colocated=True) 100 69932.43\n",
      "Key(system='leases', small=False, colocated=True) 20 5069.55\n",
      "Key(system='leases', small=False, colocated=True) 40 4968.72\n",
      "Key(system='leases', small=False, colocated=True) 60 5070.21\n",
      "Key(system='leases', small=False, colocated=True) 80 5003.75\n",
      "Key(system='leases', small=False, colocated=True) 100 4973.1\n",
      "Key(system='centralized', small=False, colocated=True) 20 4617.59\n",
      "Key(system='centralized', small=False, colocated=True) 40 4598.12\n",
      "Key(system='centralized', small=False, colocated=True) 60 4616.92\n",
      "Key(system='centralized', small=False, colocated=True) 80 4601.38\n",
      "Key(system='centralized', small=False, colocated=True) 100 4578.38\n",
      "Key(system='ownership', small=False, colocated=False) 20 18126.51\n",
      "Key(system='ownership', small=False, colocated=False) 40 36682.75\n",
      "Key(system='ownership', small=False, colocated=False) 60 53431.09\n",
      "Key(system='ownership', small=False, colocated=False) 80 71252.38\n",
      "Key(system='ownership', small=False, colocated=False) 100 90064.14\n",
      "Key(system='leases', small=False, colocated=False) 20 14882.08\n",
      "Key(system='leases', small=False, colocated=False) 40 28021.15832\n",
      "Key(system='leases', small=False, colocated=False) 60 44314.14\n",
      "Key(system='leases', small=False, colocated=False) 80 62005.24\n",
      "Key(system='leases', small=False, colocated=False) 100 76992.19\n",
      "Key(system='centralized', small=False, colocated=False) 20 13700.64\n",
      "Key(system='centralized', small=False, colocated=False) 40 26865.09\n",
      "Key(system='centralized', small=False, colocated=False) 60 36731.32\n",
      "Key(system='centralized', small=False, colocated=False) 80 35596.17\n",
      "Key(system='centralized', small=False, colocated=False) 100 36052.31\n",
      "Key(system='by_value', small=True, colocated=True) 20 48059.08\n",
      "Key(system='by_value', small=True, colocated=True) 40 71549.38\n",
      "Key(system='by_value', small=True, colocated=True) 60 100804.94\n",
      "Key(system='by_value', small=True, colocated=True) 80 134888.76\n",
      "Key(system='by_value', small=True, colocated=True) 100 148146.58\n",
      "Key(system='by_value', small=True, colocated=False) 20 34628.51\n",
      "Key(system='by_value', small=True, colocated=False) 40 65638.08\n",
      "Key(system='by_value', small=True, colocated=False) 60 103552.48\n",
      "Key(system='by_value', small=True, colocated=False) 80 131641.94\n",
      "Key(system='by_value', small=True, colocated=False) 100 169090.44\n"
     ]
    }
   ],
   "source": [
    "from collections import namedtuple, defaultdict\n",
    "import csv\n",
    "\n",
    "Key = namedtuple('Key', ['system', 'small', 'colocated'])\n",
    "OWNERSHIP = \"ownership\"\n",
    "CENTRALIZED = \"centralized\"\n",
    "LEASES = \"leases\"\n",
    "BY_VALUE = \"by_value\"\n",
    "\n",
    "results = defaultdict(list)\n",
    "\n",
    "with open('scalability.csv', 'r') as f:\n",
    "    r = csv.DictReader(f)\n",
    "    for line in r:\n",
    "        key = Key(system=line['system'], small=line['small'] == 'true', colocated=line['colocated'] == 'true')\n",
    "        num_nodes = int(line['num_nodes'])\n",
    "        throughput = float(line['throughput'])\n",
    "        print(key, num_nodes, throughput)\n",
    "        results[key].append((num_nodes, throughput))"
   ]
  },
  {
   "cell_type": "code",
   "execution_count": 3,
   "metadata": {},
   "outputs": [
    {
     "data": {
      "text/plain": [
       "<Figure size 360x216 with 0 Axes>"
      ]
     },
     "metadata": {},
     "output_type": "display_data"
    },
    {
     "data": {
      "text/plain": [
       "<Figure size 360x216 with 0 Axes>"
      ]
     },
     "metadata": {},
     "output_type": "display_data"
    },
    {
     "data": {
      "text/plain": [
       "<Figure size 360x216 with 0 Axes>"
      ]
     },
     "metadata": {},
     "output_type": "display_data"
    },
    {
     "data": {
      "text/plain": [
       "<Figure size 360x216 with 0 Axes>"
      ]
     },
     "metadata": {},
     "output_type": "display_data"
    },
    {
     "data": {
      "image/png": "[encoded data removed]",
      "text/plain": [
       "<Figure size 360x288 with 1 Axes>"
      ]
     },
     "metadata": {
      "needs_background": "light"
     },
     "output_type": "display_data"
    }
   ],
   "source": [
    "import matplotlib.pyplot as plt\n",
    "\n",
    "\n",
    "SAVE = True\n",
    "font = {'size': 20}\n",
    "plt.rc('font', **font)\n",
    "\n",
    "COLORS = ['tab:purple', 'tab:blue', 'tab:orange', 'tab:green']\n",
    "MARKERS = ['^', 'x', '1', '+']\n",
    "LABELS = {\n",
    "    OWNERSHIP: \"Ownership\",\n",
    "    CENTRALIZED: \"Centralized\",\n",
    "    LEASES: \"Leases\",\n",
    "    BY_VALUE: \"Pass by\\nvalue\",\n",
    "}\n",
    "marker_style = dict(markersize=12, mew=3)\n",
    "\n",
    "for small in [True, False]:\n",
    "    for colocated in [True, False]:\n",
    "        plt.figure(figsize=(5, 3))\n",
    "        i = 0\n",
    "        for system in [BY_VALUE, LEASES, CENTRALIZED, OWNERSHIP]:\n",
    "            key = Key(system, small, colocated)\n",
    "            if key in results:\n",
    "                points = results[key]\n",
    "                x, y = zip(*points)\n",
    "                plt.yticks([0, 50000, 100000, 150000], [\"0\", \"50k\", \"100k\", \"150k\"])\n",
    "                plt.plot(x, y, label=LABELS[system], linewidth=2, marker=MARKERS[i], color=COLORS[i], **marker_style)\n",
    "                plt.ylim(0, 170000)\n",
    "                plt.xticks(range(20, 101, 20))\n",
    "\n",
    "            i += 1\n",
    "        plt.xlabel(\"Worker nodes\")\n",
    "        plt.ylabel(\"Throughput\\n(tasks/s)\")\n",
    "        plt.grid(axis='y')\n",
    "        plt.tight_layout()\n",
    "        if SAVE:\n",
    "            plt.savefig('scalability-{}-{}.pdf'.format(\"small\" if small else \"large\", \"colocated\" if colocated else \"spread\"))\n",
    "            plt.clf()\n",
    "        else:\n",
    "            plt.show()\n",
    "if SAVE:\n",
    "    plt.figure(figsize=(5, 4))\n",
    "    for i, system in enumerate([BY_VALUE, LEASES, CENTRALIZED, OWNERSHIP]):\n",
    "        plt.plot([], [], label=LABELS[system], marker=MARKERS[i], color=COLORS[i], **marker_style)\n",
    "    plt.legend(framealpha=1)\n",
    "    plt.tight_layout()\n",
    "    plt.savefig(\"scalability-legend.pdf\")"
   ]
  },
  {
   "cell_type": "code",
   "execution_count": null,
   "metadata": {},
   "outputs": [],
   "source": []
  }
 ],
 "metadata": {
  "kernelspec": {
   "display_name": "Python 3",
   "language": "python",
   "name": "python3"
  },
  "language_info": {
   "codemirror_mode": {
    "name": "ipython",
    "version": 3
   },
   "file_extension": ".py",
   "mimetype": "text/x-python",
   "name": "python",
   "nbconvert_exporter": "python",
   "pygments_lexer": "ipython3",
   "version": "3.6.10"
  }
 },
 "nbformat": 4,
 "nbformat_minor": 4
}
